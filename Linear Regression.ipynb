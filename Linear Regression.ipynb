{
 "cells": [
  {
   "cell_type": "markdown",
   "metadata": {},
   "source": [
    "# Linear Regression"
   ]
  },
  {
   "cell_type": "code",
   "execution_count": 43,
   "metadata": {},
   "outputs": [],
   "source": [
    "import numpy as np"
   ]
  },
  {
   "cell_type": "code",
   "execution_count": 165,
   "metadata": {},
   "outputs": [],
   "source": [
    "X = np.array([[1],[2],[3],[4]])"
   ]
  },
  {
   "cell_type": "code",
   "execution_count": 166,
   "metadata": {},
   "outputs": [],
   "source": [
    "Y = np.array([1,2,3,4])"
   ]
  },
  {
   "cell_type": "code",
   "execution_count": 167,
   "metadata": {},
   "outputs": [],
   "source": [
    "class LinearRegression:\n",
    "    def __init__(self, eta = 0.1, n_iter = 50):\n",
    "        self.eta = eta\n",
    "        self.n_iter = n_iter\n",
    "        \n",
    "    def fit(self,X,Y):\n",
    "        self.X = np.insert(X,0,1,axis = 1) #add  in the X\n",
    "        self.Y = Y\n",
    "        self.w = np.ones(self.X.shape[1]) \n",
    "        m = self.X.shape[0]\n",
    "        for i in range(self.n_iter):\n",
    "            output = self.X.dot(self.w)\n",
    "            error = self.Y - output\n",
    "            if  i%10 == 0:\n",
    "                print(self.w)\n",
    "                print(sum(error**2))\n",
    "            self.w += self.eta / m * error.dot(self.X) #update rule\n",
    "        return self\n",
    "    \n",
    "    def predict(self,X):\n",
    "        return np.insert(X,0,1,axis=1).dot(self.w)\n",
    "        "
   ]
  },
  {
   "cell_type": "code",
   "execution_count": 168,
   "metadata": {},
   "outputs": [],
   "source": [
    "lr = LinearRegression()"
   ]
  },
  {
   "cell_type": "code",
   "execution_count": 169,
   "metadata": {},
   "outputs": [
    {
     "name": "stdout",
     "output_type": "stream",
     "text": [
      "[1. 1.]\n",
      "4.0\n",
      "[0.77082525 0.73782542]\n",
      "0.39693584842182256\n",
      "[0.66290707 0.77453076]\n",
      "0.2935714144232121\n",
      "[0.57009781 0.80609722]\n",
      "0.21712368814533947\n",
      "[0.49028216 0.83324428]\n",
      "0.16058340028254167\n"
     ]
    }
   ],
   "source": [
    "o=lr.fit(X,Y)"
   ]
  },
  {
   "cell_type": "code",
   "execution_count": 117,
   "metadata": {},
   "outputs": [
    {
     "data": {
      "text/plain": [
       "(4, 3)"
      ]
     },
     "execution_count": 117,
     "metadata": {},
     "output_type": "execute_result"
    }
   ],
   "source": [
    "lr.X.shape"
   ]
  },
  {
   "cell_type": "code",
   "execution_count": 120,
   "metadata": {},
   "outputs": [
    {
     "data": {
      "text/plain": [
       "array([1.97854687])"
      ]
     },
     "execution_count": 120,
     "metadata": {},
     "output_type": "execute_result"
    }
   ],
   "source": [
    "lr.predict(np.array([[1,1]]))"
   ]
  },
  {
   "cell_type": "markdown",
   "metadata": {},
   "source": [
    "# Linear regression II"
   ]
  },
  {
   "cell_type": "code",
   "execution_count": 127,
   "metadata": {},
   "outputs": [],
   "source": [
    "import numpy as np\n",
    "import matplotlib.pyplot as plt\n",
    "import matplotlib.lines as lines"
   ]
  },
  {
   "cell_type": "code",
   "execution_count": 2,
   "metadata": {},
   "outputs": [],
   "source": [
    "def loadDataset(filename):\n",
    "    numFeat = len(open(filename).readline().split(\"\\t\")) - 1\n",
    "    fr = open(filename)\n",
    "    feature = []\n",
    "    label = []\n",
    "    for line in fr.readlines():\n",
    "        data = line.strip().split(\"\\t\")\n",
    "        tempFeat = []\n",
    "        for i in range(numFeat):\n",
    "            tempFeat.append(float(data[i]))\n",
    "        feature.append(tempFeat)\n",
    "        label.append(float(data[-1]))\n",
    "    return feature,label"
   ]
  },
  {
   "cell_type": "code",
   "execution_count": 259,
   "metadata": {},
   "outputs": [],
   "source": [
    "X,Y = loadDataset(\"ex0.txt\")"
   ]
  },
  {
   "cell_type": "code",
   "execution_count": 260,
   "metadata": {},
   "outputs": [
    {
     "data": {
      "text/plain": [
       "[[1.0, 0.067732],\n",
       " [1.0, 0.42781],\n",
       " [1.0, 0.995731],\n",
       " [1.0, 0.738336],\n",
       " [1.0, 0.981083],\n",
       " [1.0, 0.526171],\n",
       " [1.0, 0.378887],\n",
       " [1.0, 0.033859],\n",
       " [1.0, 0.132791],\n",
       " [1.0, 0.138306],\n",
       " [1.0, 0.247809],\n",
       " [1.0, 0.64827],\n",
       " [1.0, 0.731209],\n",
       " [1.0, 0.236833],\n",
       " [1.0, 0.969788],\n",
       " [1.0, 0.607492],\n",
       " [1.0, 0.358622],\n",
       " [1.0, 0.147846],\n",
       " [1.0, 0.63782],\n",
       " [1.0, 0.230372],\n",
       " [1.0, 0.070237],\n",
       " [1.0, 0.067154],\n",
       " [1.0, 0.925577],\n",
       " [1.0, 0.717733],\n",
       " [1.0, 0.015371],\n",
       " [1.0, 0.33507],\n",
       " [1.0, 0.040486],\n",
       " [1.0, 0.212575],\n",
       " [1.0, 0.617218],\n",
       " [1.0, 0.541196],\n",
       " [1.0, 0.045353],\n",
       " [1.0, 0.126762],\n",
       " [1.0, 0.556486],\n",
       " [1.0, 0.901144],\n",
       " [1.0, 0.958476],\n",
       " [1.0, 0.274561],\n",
       " [1.0, 0.394396],\n",
       " [1.0, 0.87248],\n",
       " [1.0, 0.409932],\n",
       " [1.0, 0.908969],\n",
       " [1.0, 0.166819],\n",
       " [1.0, 0.665016],\n",
       " [1.0, 0.263727],\n",
       " [1.0, 0.231214],\n",
       " [1.0, 0.552928],\n",
       " [1.0, 0.047744],\n",
       " [1.0, 0.365746],\n",
       " [1.0, 0.495002],\n",
       " [1.0, 0.493466],\n",
       " [1.0, 0.792101],\n",
       " [1.0, 0.76966],\n",
       " [1.0, 0.251821],\n",
       " [1.0, 0.181951],\n",
       " [1.0, 0.808177],\n",
       " [1.0, 0.334116],\n",
       " [1.0, 0.33863],\n",
       " [1.0, 0.452584],\n",
       " [1.0, 0.69477],\n",
       " [1.0, 0.590902],\n",
       " [1.0, 0.307928],\n",
       " [1.0, 0.148364],\n",
       " [1.0, 0.70218],\n",
       " [1.0, 0.721544],\n",
       " [1.0, 0.666886],\n",
       " [1.0, 0.124931],\n",
       " [1.0, 0.618286],\n",
       " [1.0, 0.381086],\n",
       " [1.0, 0.385643],\n",
       " [1.0, 0.777175],\n",
       " [1.0, 0.116089],\n",
       " [1.0, 0.115487],\n",
       " [1.0, 0.66351],\n",
       " [1.0, 0.254884],\n",
       " [1.0, 0.993888],\n",
       " [1.0, 0.295434],\n",
       " [1.0, 0.952523],\n",
       " [1.0, 0.307047],\n",
       " [1.0, 0.277261],\n",
       " [1.0, 0.279101],\n",
       " [1.0, 0.175724],\n",
       " [1.0, 0.156383],\n",
       " [1.0, 0.733165],\n",
       " [1.0, 0.848142],\n",
       " [1.0, 0.771184],\n",
       " [1.0, 0.429492],\n",
       " [1.0, 0.162176],\n",
       " [1.0, 0.917064],\n",
       " [1.0, 0.315044],\n",
       " [1.0, 0.201473],\n",
       " [1.0, 0.297038],\n",
       " [1.0, 0.336647],\n",
       " [1.0, 0.666109],\n",
       " [1.0, 0.583888],\n",
       " [1.0, 0.085031],\n",
       " [1.0, 0.687006],\n",
       " [1.0, 0.949655],\n",
       " [1.0, 0.189912],\n",
       " [1.0, 0.844027],\n",
       " [1.0, 0.333288],\n",
       " [1.0, 0.427035],\n",
       " [1.0, 0.466369],\n",
       " [1.0, 0.550659],\n",
       " [1.0, 0.278213],\n",
       " [1.0, 0.918769],\n",
       " [1.0, 0.886555],\n",
       " [1.0, 0.569488],\n",
       " [1.0, 0.066379],\n",
       " [1.0, 0.335751],\n",
       " [1.0, 0.426863],\n",
       " [1.0, 0.395746],\n",
       " [1.0, 0.694221],\n",
       " [1.0, 0.27276],\n",
       " [1.0, 0.503495],\n",
       " [1.0, 0.067119],\n",
       " [1.0, 0.038326],\n",
       " [1.0, 0.599122],\n",
       " [1.0, 0.947054],\n",
       " [1.0, 0.671279],\n",
       " [1.0, 0.434811],\n",
       " [1.0, 0.509381],\n",
       " [1.0, 0.749442],\n",
       " [1.0, 0.058014],\n",
       " [1.0, 0.482978],\n",
       " [1.0, 0.466776],\n",
       " [1.0, 0.357767],\n",
       " [1.0, 0.949123],\n",
       " [1.0, 0.41732],\n",
       " [1.0, 0.920461],\n",
       " [1.0, 0.156433],\n",
       " [1.0, 0.656662],\n",
       " [1.0, 0.616418],\n",
       " [1.0, 0.853428],\n",
       " [1.0, 0.133295],\n",
       " [1.0, 0.693007],\n",
       " [1.0, 0.178449],\n",
       " [1.0, 0.199526],\n",
       " [1.0, 0.073224],\n",
       " [1.0, 0.286515],\n",
       " [1.0, 0.182026],\n",
       " [1.0, 0.621523],\n",
       " [1.0, 0.344584],\n",
       " [1.0, 0.398556],\n",
       " [1.0, 0.480369],\n",
       " [1.0, 0.15335],\n",
       " [1.0, 0.171846],\n",
       " [1.0, 0.867082],\n",
       " [1.0, 0.223855],\n",
       " [1.0, 0.528301],\n",
       " [1.0, 0.890192],\n",
       " [1.0, 0.106352],\n",
       " [1.0, 0.917886],\n",
       " [1.0, 0.014855],\n",
       " [1.0, 0.567682],\n",
       " [1.0, 0.068854],\n",
       " [1.0, 0.603535],\n",
       " [1.0, 0.53205],\n",
       " [1.0, 0.651362],\n",
       " [1.0, 0.901225],\n",
       " [1.0, 0.204337],\n",
       " [1.0, 0.696081],\n",
       " [1.0, 0.963924],\n",
       " [1.0, 0.98139],\n",
       " [1.0, 0.987911],\n",
       " [1.0, 0.990947],\n",
       " [1.0, 0.736021],\n",
       " [1.0, 0.253574],\n",
       " [1.0, 0.674722],\n",
       " [1.0, 0.939368],\n",
       " [1.0, 0.235419],\n",
       " [1.0, 0.110521],\n",
       " [1.0, 0.218023],\n",
       " [1.0, 0.869778],\n",
       " [1.0, 0.19683],\n",
       " [1.0, 0.958178],\n",
       " [1.0, 0.972673],\n",
       " [1.0, 0.745797],\n",
       " [1.0, 0.445674],\n",
       " [1.0, 0.470557],\n",
       " [1.0, 0.549236],\n",
       " [1.0, 0.335691],\n",
       " [1.0, 0.884739],\n",
       " [1.0, 0.918916],\n",
       " [1.0, 0.441815],\n",
       " [1.0, 0.116598],\n",
       " [1.0, 0.359274],\n",
       " [1.0, 0.814811],\n",
       " [1.0, 0.387125],\n",
       " [1.0, 0.982243],\n",
       " [1.0, 0.78088],\n",
       " [1.0, 0.652565],\n",
       " [1.0, 0.87003],\n",
       " [1.0, 0.604755],\n",
       " [1.0, 0.255212],\n",
       " [1.0, 0.730546],\n",
       " [1.0, 0.493829],\n",
       " [1.0, 0.257017],\n",
       " [1.0, 0.833735],\n",
       " [1.0, 0.070095],\n",
       " [1.0, 0.52707],\n",
       " [1.0, 0.116163]]"
      ]
     },
     "execution_count": 260,
     "metadata": {},
     "output_type": "execute_result"
    }
   ],
   "source": [
    "X"
   ]
  },
  {
   "cell_type": "code",
   "execution_count": 235,
   "metadata": {},
   "outputs": [],
   "source": [
    "X = np.array(X)\n",
    "Y = np.array(Y)\n",
    "Xmat = np.mat(X)\n",
    "Ymat = np.mat(Y)"
   ]
  },
  {
   "cell_type": "code",
   "execution_count": 341,
   "metadata": {},
   "outputs": [],
   "source": [
    "lr = LinearRegression(n_iter = 100)\n",
    "lr.fit(X,Y)\n",
    "Yp = lr.predict(X)"
   ]
  },
  {
   "cell_type": "code",
   "execution_count": 187,
   "metadata": {},
   "outputs": [
    {
     "name": "stderr",
     "output_type": "stream",
     "text": [
      "/home/marinex/anaconda3/lib/python3.7/site-packages/matplotlib/cbook/deprecation.py:107: MatplotlibDeprecationWarning: Adding an axes using the same arguments as a previous axes currently reuses the earlier instance.  In a future version, a new instance will always be created and returned.  Meanwhile, this warning can be suppressed, and the future behavior ensured, by passing a unique label to each axes instance.\n",
      "  warnings.warn(message, mplDeprecation, stacklevel=1)\n"
     ]
    },
    {
     "data": {
      "image/png": "[encoded data removed]",
      "text/plain": [
       "<Figure size 432x288 with 1 Axes>"
      ]
     },
     "metadata": {
      "needs_background": "light"
     },
     "output_type": "display_data"
    },
    {
     "data": {
      "image/png": "[encoded data removed]",
      "text/plain": [
       "<Figure size 432x288 with 1 Axes>"
      ]
     },
     "metadata": {
      "needs_background": "light"
     },
     "output_type": "display_data"
    }
   ],
   "source": [
    "x1,x2,y1,y2 = plt.axis()\n",
    "fig = plt.figure()\n",
    "ax = fig.add_subplot(111)\n",
    "ax.scatter(X.flatten(),Y.flatten())\n",
    "ay = fig.add_subplot(111)\n",
    "ay.plot(X,Yp)\n",
    "plt.show()"
   ]
  },
  {
   "cell_type": "markdown",
   "metadata": {},
   "source": [
    "# linear Regression normal equation"
   ]
  },
  {
   "cell_type": "code",
   "execution_count": 307,
   "metadata": {},
   "outputs": [],
   "source": [
    "class LinearRegression:\n",
    "    def __init__(self, eta = 0.1, n_iter = 50):\n",
    "        self.eta = eta\n",
    "        self.n_iter = n_iter\n",
    "        \n",
    "    def fit(self,X,Y):\n",
    "        X = np.insert(X,0,1,axis = 1)\n",
    "        self.X = np.mat(X)\n",
    "        self.Y = np.mat(Y).T\n",
    "        if(np.linalg.det(self.X.T*self.X)==0):\n",
    "            print(\"matrix is singular\")\n",
    "            return\n",
    "        self.w = (((self.X.T*self.X).I)*self.X.T)*self.Y\n",
    "        \n",
    "        \n",
    "        return self\n",
    "    \n",
    "    def predict(self,X):\n",
    "        return np.insert(X,0,1,axis=1).dot(self.w)\n",
    "        "
   ]
  },
  {
   "cell_type": "code",
   "execution_count": 308,
   "metadata": {},
   "outputs": [],
   "source": [
    "X,Y = loadDataset(\"data.txt\") \n",
    "X = np.array(X)\n",
    "Y = np.array(Y)"
   ]
  },
  {
   "cell_type": "code",
   "execution_count": 309,
   "metadata": {},
   "outputs": [],
   "source": [
    "lr = LinearRegression()"
   ]
  },
  {
   "cell_type": "code",
   "execution_count": 310,
   "metadata": {},
   "outputs": [
    {
     "data": {
      "text/plain": [
       "<__main__.LinearRegression at 0x7f8ce3047ba8>"
      ]
     },
     "execution_count": 310,
     "metadata": {},
     "output_type": "execute_result"
    }
   ],
   "source": [
    "lr.fit(X,Y)"
   ]
  },
  {
   "cell_type": "code",
   "execution_count": 311,
   "metadata": {},
   "outputs": [
    {
     "data": {
      "text/plain": [
       "matrix([[3.00774324],\n",
       "        [1.69532264]])"
      ]
     },
     "execution_count": 311,
     "metadata": {},
     "output_type": "execute_result"
    }
   ],
   "source": [
    "lr.w"
   ]
  },
  {
   "cell_type": "code",
   "execution_count": 319,
   "metadata": {},
   "outputs": [],
   "source": [
    "Yp = np.array(lr.predict(X))\n",
    "ind_y = Y.argsort(0)"
   ]
  },
  {
   "cell_type": "code",
   "execution_count": 320,
   "metadata": {},
   "outputs": [
    {
     "data": {
      "image/png": "[encoded data removed]",
      "text/plain": [
       "<Figure size 432x288 with 1 Axes>"
      ]
     },
     "metadata": {
      "needs_background": "light"
     },
     "output_type": "display_data"
    },
    {
     "data": {
      "image/png": "[encoded data removed]",
      "text/plain": [
       "<Figure size 432x288 with 1 Axes>"
      ]
     },
     "metadata": {
      "needs_background": "light"
     },
     "output_type": "display_data"
    }
   ],
   "source": [
    "x1,x2,y1,y2 = plt.axis()\n",
    "fig = plt.figure()\n",
    "#ax = fig.add_subplot(111)\n",
    "#ax.scatter(X.flatten(),Y.flatten())\n",
    "ay = fig.add_subplot(111)\n",
    "ay.plot(Y[ind_y],Yp[ind_y])\n",
    "plt.show()"
   ]
  },
  {
   "cell_type": "markdown",
   "metadata": {},
   "source": [
    "# Linear Regression with local weight"
   ]
  },
  {
   "cell_type": "code",
   "execution_count": 345,
   "metadata": {},
   "outputs": [],
   "source": [
    "class LinearRegression:\n",
    "    def __init__(self, k = 1.0):\n",
    "        self.k = k\n",
    "        \n",
    "    def fit(self,X,Y):\n",
    "        X = np.insert(X,0,1,axis = 1)\n",
    "        self.X = np.mat(X)\n",
    "        self.Y = np.mat(Y).T\n",
    "        \n",
    "    def predict(self,x):\n",
    "        x = np.insert(x,0,1)\n",
    "        m = self.X.shape[0]\n",
    "        weightxy = np.mat(np.eye(m))\n",
    "        for i in range(m):\n",
    "            diff = x - self.X[i,:]\n",
    "            weightxy[i,i] = np.exp((diff*diff.T)/(-2.0*self.k**2.0))\n",
    "        XT = self.X.T*(weightxy*self.X)\n",
    "        if(np.linalg.det(XT) == 0.0):\n",
    "            print(\"matrix is singular\")\n",
    "            return\n",
    "        self.w =  XT.I * self.X.T * weightxy *self.Y\n",
    "        return float(x.dot(self.w))\n",
    "\n",
    "    \n",
    "    def predictTest(self,test_X):\n",
    "        output = []\n",
    "        for x in test_X:\n",
    "            output.append(self.predict(x))\n",
    "        return output"
   ]
  },
  {
   "cell_type": "code",
   "execution_count": 346,
   "metadata": {},
   "outputs": [],
   "source": [
    "lr = LinearRegression(k=0.003)"
   ]
  },
  {
   "cell_type": "code",
   "execution_count": 347,
   "metadata": {},
   "outputs": [],
   "source": [
    "lr.fit(X,Y)"
   ]
  },
  {
   "cell_type": "code",
   "execution_count": 348,
   "metadata": {
    "scrolled": true
   },
   "outputs": [
    {
     "data": {
      "text/plain": [
       "3.202006648982686"
      ]
     },
     "execution_count": 348,
     "metadata": {},
     "output_type": "execute_result"
    }
   ],
   "source": [
    "lr.predict(X[0])"
   ]
  },
  {
   "cell_type": "code",
   "execution_count": 349,
   "metadata": {},
   "outputs": [],
   "source": [
    "ind = X.argsort(0)"
   ]
  },
  {
   "cell_type": "code",
   "execution_count": 350,
   "metadata": {},
   "outputs": [],
   "source": [
    "y_predict =np.array(lr.predictTest(X))\n"
   ]
  },
  {
   "cell_type": "code",
   "execution_count": 371,
   "metadata": {},
   "outputs": [
    {
     "name": "stderr",
     "output_type": "stream",
     "text": [
      "/home/marinex/anaconda3/lib/python3.7/site-packages/matplotlib/cbook/deprecation.py:107: MatplotlibDeprecationWarning: Adding an axes using the same arguments as a previous axes currently reuses the earlier instance.  In a future version, a new instance will always be created and returned.  Meanwhile, this warning can be suppressed, and the future behavior ensured, by passing a unique label to each axes instance.\n",
      "  warnings.warn(message, mplDeprecation, stacklevel=1)\n"
     ]
    },
    {
     "data": {
      "text/plain": [
       "[<matplotlib.lines.Line2D at 0x7f8ce2df7240>]"
      ]
     },
     "execution_count": 371,
     "metadata": {},
     "output_type": "execute_result"
    },
    {
     "data": {
      "image/png": "[encoded data removed]",
      "text/plain": [
       "<Figure size 432x288 with 1 Axes>"
      ]
     },
     "metadata": {
      "needs_background": "light"
     },
     "output_type": "display_data"
    },
    {
     "data": {
      "image/png": "[encoded data removed]",
      "text/plain": [
       "<Figure size 1152x1152 with 2 Axes>"
      ]
     },
     "metadata": {
      "needs_background": "light"
     },
     "output_type": "display_data"
    }
   ],
   "source": [
    "x1,x2,y1,y2 = plt.axis()\n",
    "plt.ylim(3.0,5.0)\n",
    "fig = plt.figure(figsize = (16,16))\n",
    "ax = fig.add_subplot(211)\n",
    "ax.scatter(X.flatten(),Y.flatten(),s=2,c=\"red\")\n",
    "ay = fig.add_subplot(211)\n",
    "#line = lines.Line2D(X,y_predict)\n",
    "#ay.add_line(line)\n",
    "ay.plot(X[ind][:,0,:],y_predict[ind])\n",
    "\n",
    "az = fig.add_subplot(2,1,2)\n",
    "az.plot(Y[ind],y_predict[ind])\n"
   ]
  },
  {
   "cell_type": "code",
   "execution_count": 366,
   "metadata": {},
   "outputs": [
    {
     "data": {
      "text/plain": [
       "(200, 1)"
      ]
     },
     "execution_count": 366,
     "metadata": {},
     "output_type": "execute_result"
    }
   ],
   "source": [
    "Y[ind].shape"
   ]
  },
  {
   "cell_type": "code",
   "execution_count": 344,
   "metadata": {},
   "outputs": [
    {
     "data": {
      "text/plain": [
       "(200, 1)"
      ]
     },
     "execution_count": 344,
     "metadata": {},
     "output_type": "execute_result"
    }
   ],
   "source": [
    "y_predict[ind].shape"
   ]
  },
  {
   "cell_type": "code",
   "execution_count": 354,
   "metadata": {},
   "outputs": [
    {
     "data": {
      "text/plain": [
       "(200, 1)"
      ]
     },
     "execution_count": 354,
     "metadata": {},
     "output_type": "execute_result"
    }
   ],
   "source": [
    "X[ind][:,0,:].shape"
   ]
  },
  {
   "cell_type": "code",
   "execution_count": null,
   "metadata": {},
   "outputs": [],
   "source": []
  }
 ],
 "metadata": {
  "kernelspec": {
   "display_name": "Python 3",
   "language": "python",
   "name": "python3"
  },
  "language_info": {
   "codemirror_mode": {
    "name": "ipython",
    "version": 3
   },
   "file_extension": ".py",
   "mimetype": "text/x-python",
   "name": "python",
   "nbconvert_exporter": "python",
   "pygments_lexer": "ipython3",
   "version": "3.7.0"
  }
 },
 "nbformat": 4,
 "nbformat_minor": 2
}
