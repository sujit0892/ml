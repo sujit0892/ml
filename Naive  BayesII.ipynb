{
 "cells": [
  {
   "cell_type": "markdown",
   "metadata": {},
   "source": [
    "# Naive Bayes II"
   ]
  },
  {
   "cell_type": "markdown",
   "metadata": {},
   "source": [
    "# Multinomial NB"
   ]
  },
  {
   "cell_type": "code",
   "execution_count": 9,
   "metadata": {},
   "outputs": [
    {
     "data": {
      "text/plain": [
       "array([1, 0])"
      ]
     },
     "execution_count": 9,
     "metadata": {},
     "output_type": "execute_result"
    }
   ],
   "source": [
    "import numpy as np\n",
    "from sklearn.feature_extraction import DictVectorizer\n",
    "from sklearn.naive_bayes import MultinomialNB\n",
    "\n",
    "data = [{'house':100,'street':50,'shop':25,'car':100,'tree':20},{'house':5,'street':5,'shop':0,'car':10,'tree':500,'river':1}]\n",
    "dv = DictVectorizer(sparse=False)\n",
    "X = dv.fit_transform(data)\n",
    "Y = np.array([1,0])\n",
    "mnb = MultinomialNB()\n",
    "mnb.fit(X,Y)\n",
    "test_data = data= [{'house':80,'street':20,'shop':15,'car':70,'tree':10,'river':1},\n",
    "                  {'house': 10, 'street': 5, 'shop': 1, 'car': 8, 'tree': 300, 'river': 0}]\n",
    "mnb.predict(dv.fit_transform(test_data))"
   ]
  },
  {
   "cell_type": "code",
   "execution_count": 2,
   "metadata": {},
   "outputs": [],
   "source": [
    "data = [{'house':100,'street':50,'shop':25,'car':100,'tree':20},{'house':5,'street':5,'shop':0,'car':10,'tree':500,'river':1}]"
   ]
  },
  {
   "cell_type": "code",
   "execution_count": 3,
   "metadata": {},
   "outputs": [
    {
     "data": {
      "text/plain": [
       "[{'house': 100, 'street': 50, 'shop': 25, 'car': 100, 'tree': 20},\n",
       " {'house': 5, 'street': 5, 'shop': 0, 'car': 10, 'tree': 500, 'river': 1}]"
      ]
     },
     "execution_count": 3,
     "metadata": {},
     "output_type": "execute_result"
    }
   ],
   "source": [
    "data"
   ]
  },
  {
   "cell_type": "code",
   "execution_count": 4,
   "metadata": {},
   "outputs": [],
   "source": [
    "dv = DictVectorizer(sparse=False)"
   ]
  },
  {
   "cell_type": "code",
   "execution_count": 5,
   "metadata": {},
   "outputs": [],
   "source": [
    "X = dv.fit_transform(data)"
   ]
  },
  {
   "cell_type": "code",
   "execution_count": 6,
   "metadata": {},
   "outputs": [
    {
     "data": {
      "text/plain": [
       "array([[100., 100.,   0.,  25.,  50.,  20.],\n",
       "       [ 10.,   5.,   1.,   0.,   5., 500.]])"
      ]
     },
     "execution_count": 6,
     "metadata": {},
     "output_type": "execute_result"
    }
   ],
   "source": [
    "X"
   ]
  },
  {
   "cell_type": "code",
   "execution_count": 7,
   "metadata": {},
   "outputs": [],
   "source": [
    "Y = np.array([1,0])"
   ]
  },
  {
   "cell_type": "code",
   "execution_count": 8,
   "metadata": {},
   "outputs": [],
   "source": [
    "mnb = MultinomialNB()"
   ]
  },
  {
   "cell_type": "code",
   "execution_count": 9,
   "metadata": {},
   "outputs": [
    {
     "data": {
      "text/plain": [
       "MultinomialNB(alpha=1.0, class_prior=None, fit_prior=True)"
      ]
     },
     "execution_count": 9,
     "metadata": {},
     "output_type": "execute_result"
    }
   ],
   "source": [
    "mnb.fit(X,Y)"
   ]
  },
  {
   "cell_type": "code",
   "execution_count": 10,
   "metadata": {},
   "outputs": [],
   "source": [
    "test_data = data= [{'house':80,'street':20,'shop':15,'car':70,'tree':10,'river':1},\n",
    "                  {'house': 10, 'street': 5, 'shop': 1, 'car': 8, 'tree': 300, 'river': 0}]"
   ]
  },
  {
   "cell_type": "code",
   "execution_count": 11,
   "metadata": {},
   "outputs": [
    {
     "data": {
      "text/plain": [
       "array([1, 0])"
      ]
     },
     "execution_count": 11,
     "metadata": {},
     "output_type": "execute_result"
    }
   ],
   "source": [
    "mnb.predict(dv.fit_transform(test_data))"
   ]
  },
  {
   "cell_type": "code",
   "execution_count": 33,
   "metadata": {},
   "outputs": [],
   "source": [
    "X = [[\"Chinese\",\"Beijing\",\"Chinese\"],\n",
    "        [\"Chinese\",\"Chinese\",\"Shanghai\"]\n",
    "        ,[\"Chinese\",\"Macao\"],\n",
    "       [\"Tokyo\",\"Japan\",\"Chinese\"]]\n",
    "Y = [\"yes\",\"yes\",\"yes\",\"no\"]"
   ]
  },
  {
   "cell_type": "code",
   "execution_count": 34,
   "metadata": {},
   "outputs": [],
   "source": [
    "def one_hot_encoding(data):\n",
    "    unique = []\n",
    "    for x in data:\n",
    "        for y in x:\n",
    "            if y not in unique:\n",
    "                unique.append(y)\n",
    "    one_hot_encoding = []\n",
    "    for x in data:\n",
    "        temp = []\n",
    "        for u in unique:\n",
    "            count = 0\n",
    "            for y in x:\n",
    "                if u==y:\n",
    "                    count+=1\n",
    "            temp.append(count)\n",
    "        one_hot_encoding.append(temp)\n",
    "    return one_hot_encoding"
   ]
  },
  {
   "cell_type": "code",
   "execution_count": 312,
   "metadata": {},
   "outputs": [],
   "source": [
    "class MultinomialNB:\n",
    "    def __init__(self,alpha=1.0):\n",
    "        self.alpha = 1.0\n",
    "        \n",
    "    def fit(self,X,Y):\n",
    "        x_temp,self.feature = self.encode_X(X)\n",
    "        y_temp,self.label_encode,self.label = self.encode_Y(Y)\n",
    "        self.X = np.array(x_temp)\n",
    "        self.Y = np.array(y_temp)\n",
    "        self.cal_prob_label()\n",
    "        self.cal_prob_feature()\n",
    "        \n",
    "    def encode_X(self,data):\n",
    "        unique = []\n",
    "        for x in data:\n",
    "            for y in x:\n",
    "                if y not in unique:\n",
    "                    unique.append(y)\n",
    "        one_hot_encoding = []\n",
    "        for x in data:\n",
    "            temp = []\n",
    "            for u in unique:\n",
    "                count = 0\n",
    "                for y in x:\n",
    "                    if u==y:\n",
    "                        count+=1\n",
    "                temp.append(count)\n",
    "            one_hot_encoding.append(temp)\n",
    "        return one_hot_encoding,unique\n",
    "    \n",
    "    def encode_Y(self,Y):\n",
    "        output = []\n",
    "        unique = []\n",
    "        for x in Y:\n",
    "            if x not in unique:\n",
    "                unique.append(x)\n",
    "        count = 0\n",
    "        for u in unique:\n",
    "            for y in Y:\n",
    "                if u==y:\n",
    "                    output.append(count)\n",
    "            count+=1\n",
    "        label = []\n",
    "        for i in range(0,count):\n",
    "            label.append(i)\n",
    "        return output,label,unique\n",
    "    \n",
    "    def cal_prob_label(self):\n",
    "        self.prob_label ={}\n",
    "        for l in self.label_encode:\n",
    "            count = 0 \n",
    "            for i in self.Y:\n",
    "                if l==i:\n",
    "                    count+=1\n",
    "            self.prob_label[l] = count/self.Y.size\n",
    "            \n",
    "    def cal_prob_feature(self):\n",
    "        self.prob_feature={}\n",
    "        \n",
    "        for u in self.label_encode:\n",
    "            temp_count_feature = []\n",
    "            for i in range(0,len(self.feature)):\n",
    "                temp_count_feature.append(0)\n",
    "            self.prob_feature[u] = {}\n",
    "            n=0\n",
    "            for x,y in zip(self.X,self.Y):\n",
    "                if y==u:\n",
    "                    for i in range(0,len(x)):\n",
    "                        temp_count_feature[i]+=x[i]\n",
    "                        n+=x[i]\n",
    "            for i in range(0,len(self.feature)):\n",
    "                temp_count_feature[i]+=self.alpha\n",
    "            temp = {}\n",
    "            n+=len(self.feature)\n",
    "            for x,y in zip(self.feature,temp_count_feature):\n",
    "                temp[x]=y/n\n",
    "            self.prob_feature[u]= temp\n",
    "            \n",
    "    def predict(self,X):\n",
    "        temp_X = []\n",
    "        for x in X:\n",
    "            temp = []\n",
    "            for feature in self.feature:\n",
    "                count = 0\n",
    "                for y in x:\n",
    "                    if(feature == y):\n",
    "                        count+=1\n",
    "                temp.append(count)\n",
    "            temp_X.append(temp)\n",
    "        self.test_X = np.array(temp_X)\n",
    "        output = []\n",
    "        for X1 in self.test_X:\n",
    "            for label,label_decode in zip(self.label_encode,self.label):\n",
    "                temp = {}\n",
    "                p = self.prob_label[label]\n",
    "                for x,feature in zip(X1,self.feature):\n",
    "                    if(x!=0):\n",
    "                        while(x!=0):\n",
    "                            p*=self.prob_feature[label][feature]\n",
    "                            x-=1\n",
    "                temp[label_decode] = p\n",
    "                output.append(temp)\n",
    "        return output\n",
    "                \n",
    "                            \n",
    "            \n",
    "        \n",
    "\n",
    "                \n",
    "            \n",
    "            \n",
    "            \n",
    "                    \n",
    "                    \n",
    "                    \n",
    "                    \n",
    "        \n",
    "        \n",
    "    \n",
    "    \n",
    "                \n",
    "        "
   ]
  },
  {
   "cell_type": "code",
   "execution_count": 313,
   "metadata": {},
   "outputs": [],
   "source": [
    "m = MultinomialNB()"
   ]
  },
  {
   "cell_type": "code",
   "execution_count": 314,
   "metadata": {},
   "outputs": [],
   "source": [
    "m.fit(X,Y)"
   ]
  },
  {
   "cell_type": "code",
   "execution_count": 299,
   "metadata": {},
   "outputs": [
    {
     "data": {
      "text/plain": [
       "array([[2, 1, 0, 0, 0, 0],\n",
       "       [2, 0, 1, 0, 0, 0],\n",
       "       [1, 0, 0, 1, 0, 0],\n",
       "       [1, 0, 0, 0, 1, 1]])"
      ]
     },
     "execution_count": 299,
     "metadata": {},
     "output_type": "execute_result"
    }
   ],
   "source": [
    "m.X"
   ]
  },
  {
   "cell_type": "code",
   "execution_count": 300,
   "metadata": {},
   "outputs": [
    {
     "data": {
      "text/plain": [
       "array([0, 0, 0, 1])"
      ]
     },
     "execution_count": 300,
     "metadata": {},
     "output_type": "execute_result"
    }
   ],
   "source": [
    "m.Y"
   ]
  },
  {
   "cell_type": "code",
   "execution_count": 301,
   "metadata": {},
   "outputs": [
    {
     "data": {
      "text/plain": [
       "['Chinese', 'Beijing', 'Shanghai', 'Macao', 'Tokyo', 'Japan']"
      ]
     },
     "execution_count": 301,
     "metadata": {},
     "output_type": "execute_result"
    }
   ],
   "source": [
    "m.feature"
   ]
  },
  {
   "cell_type": "code",
   "execution_count": 302,
   "metadata": {},
   "outputs": [
    {
     "data": {
      "text/plain": [
       "['yes', 'no']"
      ]
     },
     "execution_count": 302,
     "metadata": {},
     "output_type": "execute_result"
    }
   ],
   "source": [
    "m.label"
   ]
  },
  {
   "cell_type": "code",
   "execution_count": 303,
   "metadata": {},
   "outputs": [],
   "source": [
    "m.cal_prob_label()"
   ]
  },
  {
   "cell_type": "code",
   "execution_count": 304,
   "metadata": {
    "scrolled": true
   },
   "outputs": [
    {
     "data": {
      "text/plain": [
       "{0: 0.75, 1: 0.25}"
      ]
     },
     "execution_count": 304,
     "metadata": {},
     "output_type": "execute_result"
    }
   ],
   "source": [
    "m.prob_label"
   ]
  },
  {
   "cell_type": "code",
   "execution_count": 305,
   "metadata": {},
   "outputs": [],
   "source": [
    "m.cal_prob_feature()"
   ]
  },
  {
   "cell_type": "code",
   "execution_count": 306,
   "metadata": {},
   "outputs": [
    {
     "data": {
      "text/plain": [
       "{0: {'Chinese': 0.42857142857142855,\n",
       "  'Beijing': 0.14285714285714285,\n",
       "  'Shanghai': 0.14285714285714285,\n",
       "  'Macao': 0.14285714285714285,\n",
       "  'Tokyo': 0.07142857142857142,\n",
       "  'Japan': 0.07142857142857142},\n",
       " 1: {'Chinese': 0.2222222222222222,\n",
       "  'Beijing': 0.1111111111111111,\n",
       "  'Shanghai': 0.1111111111111111,\n",
       "  'Macao': 0.1111111111111111,\n",
       "  'Tokyo': 0.2222222222222222,\n",
       "  'Japan': 0.2222222222222222}}"
      ]
     },
     "execution_count": 306,
     "metadata": {},
     "output_type": "execute_result"
    }
   ],
   "source": [
    "m.prob_feature"
   ]
  },
  {
   "cell_type": "code",
   "execution_count": 307,
   "metadata": {},
   "outputs": [],
   "source": [
    "test_X = [[\"Chinese\",\"Chinese\",\"Chinese\",\"Tokyo\",\"Japan\"]]"
   ]
  },
  {
   "cell_type": "code",
   "execution_count": 315,
   "metadata": {},
   "outputs": [
    {
     "name": "stdout",
     "output_type": "stream",
     "text": [
      "[{'yes': 0.00030121377997263036}, {'no': 0.00013548070246744226}]\n"
     ]
    }
   ],
   "source": [
    "print(m.predict(test_X))"
   ]
  },
  {
   "cell_type": "code",
   "execution_count": 309,
   "metadata": {},
   "outputs": [
    {
     "data": {
      "text/plain": [
       "[{'yes': 0.00030121377997263036}, {'no': 0.00013548070246744226}]"
      ]
     },
     "execution_count": 309,
     "metadata": {},
     "output_type": "execute_result"
    }
   ],
   "source": [
    "a"
   ]
  },
  {
   "cell_type": "code",
   "execution_count": 294,
   "metadata": {},
   "outputs": [],
   "source": [
    "a = np.array([1,2,3])"
   ]
  },
  {
   "cell_type": "code",
   "execution_count": 295,
   "metadata": {},
   "outputs": [
    {
     "data": {
      "text/plain": [
       "3"
      ]
     },
     "execution_count": 295,
     "metadata": {},
     "output_type": "execute_result"
    }
   ],
   "source": [
    "len(a)"
   ]
  },
  {
   "cell_type": "code",
   "execution_count": 181,
   "metadata": {},
   "outputs": [],
   "source": [
    "a ={1:{1:2}}"
   ]
  },
  {
   "cell_type": "code",
   "execution_count": 182,
   "metadata": {},
   "outputs": [
    {
     "data": {
      "text/plain": [
       "{1: 2}"
      ]
     },
     "execution_count": 182,
     "metadata": {},
     "output_type": "execute_result"
    }
   ],
   "source": [
    "a[1]"
   ]
  },
  {
   "cell_type": "code",
   "execution_count": 183,
   "metadata": {},
   "outputs": [
    {
     "data": {
      "text/plain": [
       "2"
      ]
     },
     "execution_count": 183,
     "metadata": {},
     "output_type": "execute_result"
    }
   ],
   "source": [
    "a[1][1]"
   ]
  },
  {
   "cell_type": "code",
   "execution_count": null,
   "metadata": {},
   "outputs": [],
   "source": []
  }
 ],
 "metadata": {
  "kernelspec": {
   "display_name": "Python 3",
   "language": "python",
   "name": "python3"
  },
  "language_info": {
   "codemirror_mode": {
    "name": "ipython",
    "version": 3
   },
   "file_extension": ".py",
   "mimetype": "text/x-python",
   "name": "python",
   "nbconvert_exporter": "python",
   "pygments_lexer": "ipython3",
   "version": "3.7.0"
  }
 },
 "nbformat": 4,
 "nbformat_minor": 2
}
