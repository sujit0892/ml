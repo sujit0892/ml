{
 "cells": [
  {
   "cell_type": "markdown",
   "metadata": {},
   "source": [
    "# Linear Regression"
   ]
  },
  {
   "cell_type": "code",
   "execution_count": 43,
   "metadata": {},
   "outputs": [],
   "source": [
    "import numpy as np"
   ]
  },
  {
   "cell_type": "code",
   "execution_count": 165,
   "metadata": {},
   "outputs": [],
   "source": [
    "X = np.array([[1],[2],[3],[4]])"
   ]
  },
  {
   "cell_type": "code",
   "execution_count": 166,
   "metadata": {},
   "outputs": [],
   "source": [
    "Y = np.array([1,2,3,4])"
   ]
  },
  {
   "cell_type": "code",
   "execution_count": 167,
   "metadata": {},
   "outputs": [],
   "source": [
    "class LinearRegression:\n",
    "    def __init__(self, eta = 0.1, n_iter = 50):\n",
    "        self.eta = eta\n",
    "        self.n_iter = n_iter\n",
    "        \n",
    "    def fit(self,X,Y):\n",
    "        self.X = np.insert(X,0,1,axis = 1) #add  in the X\n",
    "        self.Y = Y\n",
    "        self.w = np.ones(self.X.shape[1]) \n",
    "        m = self.X.shape[0]\n",
    "        for i in range(self.n_iter):\n",
    "            output = self.X.dot(self.w)\n",
    "            error = self.Y - output\n",
    "            if  i%10 == 0:\n",
    "                print(self.w)\n",
    "                print(sum(error**2))\n",
    "            self.w += self.eta / m * error.dot(self.X) #update rule\n",
    "        return self\n",
    "    \n",
    "    def predict(self,X):\n",
    "        return np.insert(X,0,1,axis=1).dot(self.w)\n",
    "        "
   ]
  },
  {
   "cell_type": "code",
   "execution_count": 168,
   "metadata": {},
   "outputs": [],
   "source": [
    "lr = LinearRegression()"
   ]
  },
  {
   "cell_type": "code",
   "execution_count": 169,
   "metadata": {},
   "outputs": [
    {
     "name": "stdout",
     "output_type": "stream",
     "text": [
      "[1. 1.]\n",
      "4.0\n",
      "[0.77082525 0.73782542]\n",
      "0.39693584842182256\n",
      "[0.66290707 0.77453076]\n",
      "0.2935714144232121\n",
      "[0.57009781 0.80609722]\n",
      "0.21712368814533947\n",
      "[0.49028216 0.83324428]\n",
      "0.16058340028254167\n"
     ]
    }
   ],
   "source": [
    "o=lr.fit(X,Y)"
   ]
  },
  {
   "cell_type": "code",
   "execution_count": 117,
   "metadata": {},
   "outputs": [
    {
     "data": {
      "text/plain": [
       "(4, 3)"
      ]
     },
     "execution_count": 117,
     "metadata": {},
     "output_type": "execute_result"
    }
   ],
   "source": [
    "lr.X.shape"
   ]
  },
  {
   "cell_type": "code",
   "execution_count": 120,
   "metadata": {},
   "outputs": [
    {
     "data": {
      "text/plain": [
       "array([1.97854687])"
      ]
     },
     "execution_count": 120,
     "metadata": {},
     "output_type": "execute_result"
    }
   ],
   "source": [
    "lr.predict(np.array([[1,1]]))"
   ]
  },
  {
   "cell_type": "markdown",
   "metadata": {},
   "source": [
    "# Linear regression II"
   ]
  },
  {
   "cell_type": "code",
   "execution_count": 127,
   "metadata": {},
   "outputs": [],
   "source": [
    "import numpy as np\n",
    "import matplotlib.pyplot as plt\n",
    "import matplotlib.lines as lines"
   ]
  },
  {
   "cell_type": "code",
   "execution_count": 2,
   "metadata": {},
   "outputs": [],
   "source": [
    "def loadDataset(filename):\n",
    "    numFeat = len(open(filename).readline().split(\"\\t\")) - 1\n",
    "    fr = open(filename)\n",
    "    feature = []\n",
    "    label = []\n",
    "    for line in fr.readlines():\n",
    "        data = line.strip().split(\"\\t\")\n",
    "        tempFeat = []\n",
    "        for i in range(numFeat):\n",
    "            tempFeat.append(float(data[i]))\n",
    "        feature.append(tempFeat)\n",
    "        label.append(float(data[-1]))\n",
    "    return feature,label"
   ]
  },
  {
   "cell_type": "code",
   "execution_count": 259,
   "metadata": {},
   "outputs": [],
   "source": [
    "X,Y = loadDataset(\"ex0.txt\")"
   ]
  },
  {
   "cell_type": "code",
   "execution_count": 260,
   "metadata": {},
   "outputs": [
    {
     "data": {
      "text/plain": [
       "[[1.0, 0.067732],\n",
       " [1.0, 0.42781],\n",
       " [1.0, 0.995731],\n",
       " [1.0, 0.738336],\n",
       " [1.0, 0.981083],\n",
       " [1.0, 0.526171],\n",
       " [1.0, 0.378887],\n",
       " [1.0, 0.033859],\n",
       " [1.0, 0.132791],\n",
       " [1.0, 0.138306],\n",
       " [1.0, 0.247809],\n",
       " [1.0, 0.64827],\n",
       " [1.0, 0.731209],\n",
       " [1.0, 0.236833],\n",
       " [1.0, 0.969788],\n",
       " [1.0, 0.607492],\n",
       " [1.0, 0.358622],\n",
       " [1.0, 0.147846],\n",
       " [1.0, 0.63782],\n",
       " [1.0, 0.230372],\n",
       " [1.0, 0.070237],\n",
       " [1.0, 0.067154],\n",
       " [1.0, 0.925577],\n",
       " [1.0, 0.717733],\n",
       " [1.0, 0.015371],\n",
       " [1.0, 0.33507],\n",
       " [1.0, 0.040486],\n",
       " [1.0, 0.212575],\n",
       " [1.0, 0.617218],\n",
       " [1.0, 0.541196],\n",
       " [1.0, 0.045353],\n",
       " [1.0, 0.126762],\n",
       " [1.0, 0.556486],\n",
       " [1.0, 0.901144],\n",
       " [1.0, 0.958476],\n",
       " [1.0, 0.274561],\n",
       " [1.0, 0.394396],\n",
       " [1.0, 0.87248],\n",
       " [1.0, 0.409932],\n",
       " [1.0, 0.908969],\n",
       " [1.0, 0.166819],\n",
       " [1.0, 0.665016],\n",
       " [1.0, 0.263727],\n",
       " [1.0, 0.231214],\n",
       " [1.0, 0.552928],\n",
       " [1.0, 0.047744],\n",
       " [1.0, 0.365746],\n",
       " [1.0, 0.495002],\n",
       " [1.0, 0.493466],\n",
       " [1.0, 0.792101],\n",
       " [1.0, 0.76966],\n",
       " [1.0, 0.251821],\n",
       " [1.0, 0.181951],\n",
       " [1.0, 0.808177],\n",
       " [1.0, 0.334116],\n",
       " [1.0, 0.33863],\n",
       " [1.0, 0.452584],\n",
       " [1.0, 0.69477],\n",
       " [1.0, 0.590902],\n",
       " [1.0, 0.307928],\n",
       " [1.0, 0.148364],\n",
       " [1.0, 0.70218],\n",
       " [1.0, 0.721544],\n",
       " [1.0, 0.666886],\n",
       " [1.0, 0.124931],\n",
       " [1.0, 0.618286],\n",
       " [1.0, 0.381086],\n",
       " [1.0, 0.385643],\n",
       " [1.0, 0.777175],\n",
       " [1.0, 0.116089],\n",
       " [1.0, 0.115487],\n",
       " [1.0, 0.66351],\n",
       " [1.0, 0.254884],\n",
       " [1.0, 0.993888],\n",
       " [1.0, 0.295434],\n",
       " [1.0, 0.952523],\n",
       " [1.0, 0.307047],\n",
       " [1.0, 0.277261],\n",
       " [1.0, 0.279101],\n",
       " [1.0, 0.175724],\n",
       " [1.0, 0.156383],\n",
       " [1.0, 0.733165],\n",
       " [1.0, 0.848142],\n",
       " [1.0, 0.771184],\n",
       " [1.0, 0.429492],\n",
       " [1.0, 0.162176],\n",
       " [1.0, 0.917064],\n",
       " [1.0, 0.315044],\n",
       " [1.0, 0.201473],\n",
       " [1.0, 0.297038],\n",
       " [1.0, 0.336647],\n",
       " [1.0, 0.666109],\n",
       " [1.0, 0.583888],\n",
       " [1.0, 0.085031],\n",
       " [1.0, 0.687006],\n",
       " [1.0, 0.949655],\n",
       " [1.0, 0.189912],\n",
       " [1.0, 0.844027],\n",
       " [1.0, 0.333288],\n",
       " [1.0, 0.427035],\n",
       " [1.0, 0.466369],\n",
       " [1.0, 0.550659],\n",
       " [1.0, 0.278213],\n",
       " [1.0, 0.918769],\n",
       " [1.0, 0.886555],\n",
       " [1.0, 0.569488],\n",
       " [1.0, 0.066379],\n",
       " [1.0, 0.335751],\n",
       " [1.0, 0.426863],\n",
       " [1.0, 0.395746],\n",
       " [1.0, 0.694221],\n",
       " [1.0, 0.27276],\n",
       " [1.0, 0.503495],\n",
       " [1.0, 0.067119],\n",
       " [1.0, 0.038326],\n",
       " [1.0, 0.599122],\n",
       " [1.0, 0.947054],\n",
       " [1.0, 0.671279],\n",
       " [1.0, 0.434811],\n",
       " [1.0, 0.509381],\n",
       " [1.0, 0.749442],\n",
       " [1.0, 0.058014],\n",
       " [1.0, 0.482978],\n",
       " [1.0, 0.466776],\n",
       " [1.0, 0.357767],\n",
       " [1.0, 0.949123],\n",
       " [1.0, 0.41732],\n",
       " [1.0, 0.920461],\n",
       " [1.0, 0.156433],\n",
       " [1.0, 0.656662],\n",
       " [1.0, 0.616418],\n",
       " [1.0, 0.853428],\n",
       " [1.0, 0.133295],\n",
       " [1.0, 0.693007],\n",
       " [1.0, 0.178449],\n",
       " [1.0, 0.199526],\n",
       " [1.0, 0.073224],\n",
       " [1.0, 0.286515],\n",
       " [1.0, 0.182026],\n",
       " [1.0, 0.621523],\n",
       " [1.0, 0.344584],\n",
       " [1.0, 0.398556],\n",
       " [1.0, 0.480369],\n",
       " [1.0, 0.15335],\n",
       " [1.0, 0.171846],\n",
       " [1.0, 0.867082],\n",
       " [1.0, 0.223855],\n",
       " [1.0, 0.528301],\n",
       " [1.0, 0.890192],\n",
       " [1.0, 0.106352],\n",
       " [1.0, 0.917886],\n",
       " [1.0, 0.014855],\n",
       " [1.0, 0.567682],\n",
       " [1.0, 0.068854],\n",
       " [1.0, 0.603535],\n",
       " [1.0, 0.53205],\n",
       " [1.0, 0.651362],\n",
       " [1.0, 0.901225],\n",
       " [1.0, 0.204337],\n",
       " [1.0, 0.696081],\n",
       " [1.0, 0.963924],\n",
       " [1.0, 0.98139],\n",
       " [1.0, 0.987911],\n",
       " [1.0, 0.990947],\n",
       " [1.0, 0.736021],\n",
       " [1.0, 0.253574],\n",
       " [1.0, 0.674722],\n",
       " [1.0, 0.939368],\n",
       " [1.0, 0.235419],\n",
       " [1.0, 0.110521],\n",
       " [1.0, 0.218023],\n",
       " [1.0, 0.869778],\n",
       " [1.0, 0.19683],\n",
       " [1.0, 0.958178],\n",
       " [1.0, 0.972673],\n",
       " [1.0, 0.745797],\n",
       " [1.0, 0.445674],\n",
       " [1.0, 0.470557],\n",
       " [1.0, 0.549236],\n",
       " [1.0, 0.335691],\n",
       " [1.0, 0.884739],\n",
       " [1.0, 0.918916],\n",
       " [1.0, 0.441815],\n",
       " [1.0, 0.116598],\n",
       " [1.0, 0.359274],\n",
       " [1.0, 0.814811],\n",
       " [1.0, 0.387125],\n",
       " [1.0, 0.982243],\n",
       " [1.0, 0.78088],\n",
       " [1.0, 0.652565],\n",
       " [1.0, 0.87003],\n",
       " [1.0, 0.604755],\n",
       " [1.0, 0.255212],\n",
       " [1.0, 0.730546],\n",
       " [1.0, 0.493829],\n",
       " [1.0, 0.257017],\n",
       " [1.0, 0.833735],\n",
       " [1.0, 0.070095],\n",
       " [1.0, 0.52707],\n",
       " [1.0, 0.116163]]"
      ]
     },
     "execution_count": 260,
     "metadata": {},
     "output_type": "execute_result"
    }
   ],
   "source": [
    "X"
   ]
  },
  {
   "cell_type": "code",
   "execution_count": 235,
   "metadata": {},
   "outputs": [],
   "source": [
    "X = np.array(X)\n",
    "Y = np.array(Y)\n",
    "Xmat = np.mat(X)\n",
    "Ymat = np.mat(Y)"
   ]
  },
  {
   "cell_type": "code",
   "execution_count": 341,
   "metadata": {},
   "outputs": [],
   "source": [
    "lr = LinearRegression(n_iter = 100)\n",
    "lr.fit(X,Y)\n",
    "Yp = lr.predict(X)"
   ]
  },
  {
   "cell_type": "code",
   "execution_count": 187,
   "metadata": {},
   "outputs": [
    {
     "name": "stderr",
     "output_type": "stream",
     "text": [
      "/home/marinex/anaconda3/lib/python3.7/site-packages/matplotlib/cbook/deprecation.py:107: MatplotlibDeprecationWarning: Adding an axes using the same arguments as a previous axes currently reuses the earlier instance.  In a future version, a new instance will always be created and returned.  Meanwhile, this warning can be suppressed, and the future behavior ensured, by passing a unique label to each axes instance.\n",
      "  warnings.warn(message, mplDeprecation, stacklevel=1)\n"
     ]
    },
    {
     "data": {
      "image/png": "[encoded data removed]",
      "text/plain": [
       "<Figure size 432x288 with 1 Axes>"
      ]
     },
     "metadata": {
      "needs_background": "light"
     },
     "output_type": "display_data"
    },
    {
     "data": {
      "image/png": "[encoded data removed]",
      "text/plain": [
       "<Figure size 432x288 with 1 Axes>"
      ]
     },
     "metadata": {
      "needs_background": "light"
     },
     "output_type": "display_data"
    }
   ],
   "source": [
    "x1,x2,y1,y2 = plt.axis()\n",
    "fig = plt.figure()\n",
    "ax = fig.add_subplot(111)\n",
    "ax.scatter(X.flatten(),Y.flatten())\n",
    "ay = fig.add_subplot(111)\n",
    "ay.plot(X,Yp)\n",
    "plt.show()"
   ]
  },
  {
   "cell_type": "markdown",
   "metadata": {},
   "source": [
    "# linear Regression normal equation"
   ]
  },
  {
   "cell_type": "code",
   "execution_count": 6,
   "metadata": {},
   "outputs": [],
   "source": [
    "class LinearRegression:\n",
    "    def __init__(self, eta = 0.1, n_iter = 50):\n",
    "        self.eta = eta\n",
    "        self.n_iter = n_iter\n",
    "        \n",
    "    def fit(self,X,Y):\n",
    "        X = np.insert(X,0,1,axis = 1)\n",
    "        self.X = np.mat(X)\n",
    "        self.Y = np.mat(Y).T\n",
    "        if(np.linalg.det(self.X.T*self.X)==0):\n",
    "            print(\"matrix is singular\")\n",
    "            return\n",
    "        self.w = (((self.X.T*self.X).I)*self.X.T)*self.Y\n",
    "        \n",
    "        \n",
    "        return self\n",
    "    \n",
    "    def predict(self,X):\n",
    "        return np.insert(X,0,1,axis=1).dot(self.w)\n",
    "        "
   ]
  },
  {
   "cell_type": "code",
   "execution_count": 7,
   "metadata": {},
   "outputs": [],
   "source": [
    "X,Y = loadDataset(\"data.txt\") \n",
    "X = np.array(X)\n",
    "Y = np.array(Y)"
   ]
  },
  {
   "cell_type": "code",
   "execution_count": 359,
   "metadata": {},
   "outputs": [],
   "source": [
    "lr = LinearRegression()"
   ]
  },
  {
   "cell_type": "code",
   "execution_count": 360,
   "metadata": {},
   "outputs": [
    {
     "data": {
      "text/plain": [
       "<__main__.LinearRegression at 0x7f91302dee48>"
      ]
     },
     "execution_count": 360,
     "metadata": {},
     "output_type": "execute_result"
    }
   ],
   "source": [
    "lr.fit(X,Y)"
   ]
  },
  {
   "cell_type": "code",
   "execution_count": 361,
   "metadata": {},
   "outputs": [
    {
     "data": {
      "text/plain": [
       "matrix([[3.00774324],\n",
       "        [1.69532264]])"
      ]
     },
     "execution_count": 361,
     "metadata": {},
     "output_type": "execute_result"
    }
   ],
   "source": [
    "lr.w"
   ]
  },
  {
   "cell_type": "code",
   "execution_count": 362,
   "metadata": {},
   "outputs": [],
   "source": [
    "Yp = lr.predict(X)"
   ]
  },
  {
   "cell_type": "code",
   "execution_count": 363,
   "metadata": {},
   "outputs": [
    {
     "name": "stderr",
     "output_type": "stream",
     "text": [
      "/home/marinex/anaconda3/lib/python3.7/site-packages/matplotlib/cbook/deprecation.py:107: MatplotlibDeprecationWarning: Adding an axes using the same arguments as a previous axes currently reuses the earlier instance.  In a future version, a new instance will always be created and returned.  Meanwhile, this warning can be suppressed, and the future behavior ensured, by passing a unique label to each axes instance.\n",
      "  warnings.warn(message, mplDeprecation, stacklevel=1)\n"
     ]
    },
    {
     "data": {
      "image/png": "[encoded data removed]",
      "text/plain": [
       "<Figure size 432x288 with 1 Axes>"
      ]
     },
     "metadata": {
      "needs_background": "light"
     },
     "output_type": "display_data"
    },
    {
     "data": {
      "image/png": "[encoded data removed]",
      "text/plain": [
       "<Figure size 432x288 with 1 Axes>"
      ]
     },
     "metadata": {
      "needs_background": "light"
     },
     "output_type": "display_data"
    }
   ],
   "source": [
    "x1,x2,y1,y2 = plt.axis()\n",
    "fig = plt.figure()\n",
    "ax = fig.add_subplot(111)\n",
    "ax.scatter(X.flatten(),Y.flatten())\n",
    "ay = fig.add_subplot(111)\n",
    "ay.plot(X,Yp)\n",
    "plt.show()"
   ]
  },
  {
   "cell_type": "markdown",
   "metadata": {},
   "source": [
    "# Linear Regression with local weight"
   ]
  },
  {
   "cell_type": "code",
   "execution_count": 223,
   "metadata": {},
   "outputs": [],
   "source": [
    "class LinearRegression:\n",
    "    def __init__(self, k = 1.0):\n",
    "        self.k = k\n",
    "        \n",
    "    def fit(self,X,Y):\n",
    "        X = np.insert(X,0,1,axis = 1)\n",
    "        self.X = np.mat(X)\n",
    "        self.Y = np.mat(Y).T\n",
    "        \n",
    "    def predict(self,x):\n",
    "        x = np.insert(x,0,1)\n",
    "        m = self.X.shape[0]\n",
    "        weightxy = np.mat(np.eye(m))\n",
    "        for i in range(m):\n",
    "            diff = x - self.X[i,:]\n",
    "            weightxy[i,i] = np.exp((diff*diff.T)/(-2.0*self.k**2.0))\n",
    "        XT = self.X.T*(weightxy*self.X)\n",
    "        if(np.linalg.det(XT) == 0.0):\n",
    "            print(\"matrix is singular\")\n",
    "            return\n",
    "        self.w =  XT.I * self.X.T * weightxy *self.Y\n",
    "        return float(x.dot(self.w))\n",
    "\n",
    "    \n",
    "    def predictTest(self,test_X):\n",
    "        output = []\n",
    "        for x in test_X:\n",
    "            output.append([self.predict(x)])\n",
    "        return output"
   ]
  },
  {
   "cell_type": "code",
   "execution_count": 224,
   "metadata": {},
   "outputs": [],
   "source": [
    "lr = LinearRegression(k = 0.001)"
   ]
  },
  {
   "cell_type": "code",
   "execution_count": 225,
   "metadata": {},
   "outputs": [],
   "source": [
    "lr.fit(X,Y)"
   ]
  },
  {
   "cell_type": "code",
   "execution_count": 226,
   "metadata": {
    "scrolled": true
   },
   "outputs": [
    {
     "data": {
      "text/plain": [
       "3.201757285524224"
      ]
     },
     "execution_count": 226,
     "metadata": {},
     "output_type": "execute_result"
    }
   ],
   "source": [
    "lr.predict(X[0])"
   ]
  },
  {
   "cell_type": "code",
   "execution_count": null,
   "metadata": {},
   "outputs": [],
   "source": []
  },
  {
   "cell_type": "code",
   "execution_count": 227,
   "metadata": {},
   "outputs": [],
   "source": [
    "y_predict = np.array(lr.predictTest(X))\n"
   ]
  },
  {
   "cell_type": "code",
   "execution_count": 228,
   "metadata": {},
   "outputs": [
    {
     "name": "stderr",
     "output_type": "stream",
     "text": [
      "/home/marinex/anaconda3/lib/python3.7/site-packages/matplotlib/cbook/deprecation.py:107: MatplotlibDeprecationWarning: Adding an axes using the same arguments as a previous axes currently reuses the earlier instance.  In a future version, a new instance will always be created and returned.  Meanwhile, this warning can be suppressed, and the future behavior ensured, by passing a unique label to each axes instance.\n",
      "  warnings.warn(message, mplDeprecation, stacklevel=1)\n"
     ]
    },
    {
     "data": {
      "image/png": "[encoded data removed]",
      "text/plain": [
       "<Figure size 432x288 with 1 Axes>"
      ]
     },
     "metadata": {
      "needs_background": "light"
     },
     "output_type": "display_data"
    },
    {
     "data": {
      "image/png": "[encoded data removed]",
      "text/plain": [
       "<Figure size 432x288 with 1 Axes>"
      ]
     },
     "metadata": {
      "needs_background": "light"
     },
     "output_type": "display_data"
    }
   ],
   "source": [
    "x1,x2,y1,y2 = plt.axis()\n",
    "plt.ylim(3.0,5.0)\n",
    "fig = plt.figure()\n",
    "ax = fig.add_subplot(111)\n",
    "ax.scatter(X.flatten(),Y.flatten(),s=2,c=\"red\")\n",
    "ay = fig.add_subplot(111)\n",
    "#line = lines.Line2D(X,y_predict)\n",
    "#ay.add_line(line)\n",
    "#ay.plot(X,y_predict)\n",
    "\n"
   ]
  },
  {
   "cell_type": "code",
   "execution_count": 217,
   "metadata": {},
   "outputs": [
    {
     "data": {
      "text/plain": [
       "array([-2.52442855e-02,  4.39507798e-02,  2.22405869e-06,  4.74706789e-08,\n",
       "        1.97383538e-03, -7.63402149e-03, -1.18419052e-10,  3.38695294e-10,\n",
       "       -6.64129320e-07,  1.32893789e-07, -1.03371520e-08, -8.83812271e-07,\n",
       "        3.13901686e-02,  3.28088539e-08,  2.58255133e-08, -3.36424079e-06,\n",
       "       -1.52012680e-02, -1.49252556e-06,  2.49845824e+01,  3.15584311e-06,\n",
       "       -2.21452189e-03, -8.51196701e-03, -3.88234635e-07,  5.65158231e-08,\n",
       "       -4.35207426e-13, -4.83195570e-02,  3.83693929e-06,  1.40721064e-06,\n",
       "        9.74753208e-04, -3.25021884e+00, -2.28313656e-06, -2.03432418e-08,\n",
       "       -2.48205012e-09,  2.39093234e-08,  3.92398258e-06,  5.69752082e-03,\n",
       "       -2.22307007e-05, -2.98771665e-05,  6.20324232e-01, -5.48072387e+00,\n",
       "       -2.00368038e-07,  2.28326556e-02,  5.52271130e-03, -1.84445720e-04,\n",
       "        7.15534866e-05,  1.45661261e-13,  1.39283795e-03,  1.69519165e-04,\n",
       "        1.17828974e-03, -4.23852200e+00, -1.31166988e-09,  2.45831146e-04,\n",
       "       -2.03438111e-02,  1.31901999e-02,  3.78882169e-02,  9.31493625e-05,\n",
       "        1.05854357e-02, -3.72273187e-03, -1.52404447e-01,  3.17417204e-11,\n",
       "        2.49124749e-05, -5.90045913e-06, -1.89903382e-08,  2.51364181e-03,\n",
       "       -5.69144731e-12,  1.57635390e-03,  8.59583029e-06,  3.18334799e-07,\n",
       "        2.09035944e-08,  4.77858379e-02, -8.85662913e-03, -1.74803870e-03,\n",
       "       -2.06136044e-02, -3.50926910e-03,  1.93676186e-11, -3.14733644e-05,\n",
       "       -7.08433312e-11, -1.39461429e-02, -1.30167309e-02,  4.27723866e-05,\n",
       "        2.74609676e-02, -2.84478737e-03, -2.31981526e-07, -2.06861257e-08,\n",
       "       -2.68287068e-03,  2.32226327e-08,  7.32093623e-03,  1.27492715e-01,\n",
       "       -2.87155562e-03,  1.73859593e-10, -3.13670542e-03, -6.52159130e-03,\n",
       "       -2.22300943e-02, -9.00914042e-01, -9.49360021e-04,  2.27424996e-02,\n",
       "        1.71249972e-03, -1.47824786e-07, -1.44099128e-02, -1.85907701e-02,\n",
       "       -9.29121845e-04, -7.86593686e-03,  4.30209631e-02,  4.32802864e-02,\n",
       "       -1.46595211e-05, -5.78995074e-10, -8.74045235e-03,  1.19482653e-02,\n",
       "        6.00753457e-03,  2.62633051e-03,  2.19832871e-02, -7.50763324e-06,\n",
       "        8.43057785e-07,  3.45368660e-02, -2.55489677e-05,  6.39087663e-08,\n",
       "        5.34941538e-04, -3.98930167e-06,  5.11973735e-07,  1.51220226e-05,\n",
       "        7.95265986e-09,  2.27749598e+00,  1.87728011e-09,  4.64308620e-03,\n",
       "        4.17023441e-03, -3.40925578e-02,  8.53117408e-01, -6.42106853e-04,\n",
       "       -2.69567022e-02,  1.03733058e-08, -3.58270841e-04,  4.11573909e-06,\n",
       "        9.54531401e-06, -3.07685610e-03, -2.09010186e-04,  2.24743326e-03,\n",
       "        9.29032050e-07, -4.78821756e-01,  1.93654620e-02, -1.18014446e-06,\n",
       "        1.58711313e-05, -2.42919802e-06,  5.02227149e-10, -5.04045153e-06,\n",
       "       -2.01236934e-07,  2.16998533e-05, -1.14429407e-05, -4.11187549e-03,\n",
       "        5.15161158e-09,  9.72641523e-10, -2.10232808e-02,  5.14255305e-13,\n",
       "       -5.50434365e-10,  1.25356649e-02, -4.06033921e-05,  1.05637086e-07,\n",
       "        1.48314487e-03,  9.81920447e-08,  4.08735356e-07,  2.88597284e-04,\n",
       "        4.36114683e-05, -2.77863071e-03, -3.57138763e-09,  1.46232567e-03,\n",
       "       -6.36151879e-04, -4.81101743e-03, -4.42195436e-09, -6.96082470e-01,\n",
       "       -4.65076282e-05,  4.16634578e-07,  1.46682074e-06, -1.17035582e-02,\n",
       "       -5.75343678e-07, -2.02433192e-06,  1.14488508e-09, -2.66731348e-09,\n",
       "        7.72340547e-09, -9.61186961e-07,  1.39136030e-04,  3.20140018e-03,\n",
       "        2.40618014e-09, -1.63066504e-02,  1.11947709e-08, -6.62604613e-03,\n",
       "        6.71750556e-03, -1.77097403e-02, -1.42680534e-10,  4.77428113e-04,\n",
       "        3.34789378e-08, -5.11753790e-05,  8.21049305e-03,  2.25238712e-03,\n",
       "        9.17410410e-03, -1.31986199e-02, -1.63097795e-03, -2.19588115e-04,\n",
       "       -5.82901124e+00,  7.19398078e-04,  2.49629992e-02, -2.90580206e-02])"
      ]
     },
     "execution_count": 217,
     "metadata": {},
     "output_type": "execute_result"
    }
   ],
   "source": [
    "Y-y_predict"
   ]
  },
  {
   "cell_type": "code",
   "execution_count": 212,
   "metadata": {},
   "outputs": [
    {
     "data": {
      "text/plain": [
       "array([[1.        , 0.27663727],\n",
       "       [0.27663727, 1.        ]])"
      ]
     },
     "execution_count": 212,
     "metadata": {},
     "output_type": "execute_result"
    }
   ],
   "source": [
    "np.corrcoef(Y,y_predict)"
   ]
  },
  {
   "cell_type": "code",
   "execution_count": null,
   "metadata": {},
   "outputs": [],
   "source": []
  }
 ],
 "metadata": {
  "kernelspec": {
   "display_name": "Python 3",
   "language": "python",
   "name": "python3"
  },
  "language_info": {
   "codemirror_mode": {
    "name": "ipython",
    "version": 3
   },
   "file_extension": ".py",
   "mimetype": "text/x-python",
   "name": "python",
   "nbconvert_exporter": "python",
   "pygments_lexer": "ipython3",
   "version": "3.7.0"
  }
 },
 "nbformat": 4,
 "nbformat_minor": 2
}
