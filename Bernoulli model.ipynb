{
 "cells": [
  {
   "cell_type": "code",
   "execution_count": 2,
   "metadata": {},
   "outputs": [],
   "source": [
    "X = [[\"Chinese\",\"Beijing\",\"Chinese\"],\n",
    "        [\"Chinese\",\"Chinese\",\"Shanghai\"]\n",
    "        ,[\"Chinese\",\"Macao\"],\n",
    "       [\"Tokyo\",\"Japan\",\"Chinese\"]]\n",
    "Y = [\"yes\",\"yes\",\"yes\",\"no\"]\n",
    "test_X = [[\"Chinese\",\"Chinese\",\"Chinese\",\"Tokyo\",\"Japan\"]]"
   ]
  },
  {
   "cell_type": "code",
   "execution_count": 3,
   "metadata": {},
   "outputs": [],
   "source": [
    "import numpy as np\n"
   ]
  },
  {
   "cell_type": "code",
   "execution_count": 4,
   "metadata": {},
   "outputs": [],
   "source": [
    "X = [[\"Chinese\",\"Beijing\",\"Chinese\"],\n",
    "        [\"Chinese\",\"Chinese\",\"Shanghai\"]\n",
    "        ,[\"Chinese\",\"Macao\"],\n",
    "       [\"Tokyo\",\"Japan\",\"Chinese\"]]\n",
    "Y = [\"yes\",\"yes\",\"yes\",\"no\"]\n",
    "test_X = [[\"Chinese\",\"Chinese\",\"Chinese\",\"Tokyo\",\"Japan\"]]\n",
    "class BernoulliNB:\n",
    "    def __init__(self,alpha=1.0):\n",
    "        self.alpha = 1.0\n",
    "        \n",
    "    def fit(self,X,Y):\n",
    "        self.X = self.encode_X(X)\n",
    "        self.Y =Y\n",
    "        self.label_Y(Y)\n",
    "        self.cal_prob_label()\n",
    "        self.cal_prob_feature()\n",
    "        \n",
    "        \n",
    "    def encode_X(self,data):\n",
    "        self.feature = []\n",
    "        for x in data:\n",
    "            for y in x:\n",
    "                if y not in self.feature:\n",
    "                    self.feature.append(y)\n",
    "        encoded_x = []\n",
    "        for x in data:\n",
    "            temp = []\n",
    "            for u in self.feature:\n",
    "                count = 0\n",
    "                for y in x:\n",
    "                    if u==y:\n",
    "                        count+=1\n",
    "                if(count>0):\n",
    "                    count=1\n",
    "                temp.append(count)\n",
    "            encoded_x.append(temp)\n",
    "        return encoded_x\n",
    "    \n",
    "    def label_Y(self,data):\n",
    "        self.label = []\n",
    "        for y in data:\n",
    "            if y not in self.label:\n",
    "                self.label.append(y)\n",
    "                \n",
    "    def cal_prob_label(self):\n",
    "        self.prob_label = {}\n",
    "        for label in self.label:\n",
    "            count = 0\n",
    "            for y in self.Y:\n",
    "                if y==label:\n",
    "                    count+=1\n",
    "            self.prob_label[label] = count/len(self.Y)\n",
    "            \n",
    "    def cal_prob_feature(self):\n",
    "        self.prob_feature = {}\n",
    "        for label in self.label:\n",
    "            self.prob_feature[label] = {}\n",
    "            for i in range(0,len(self.feature)):\n",
    "                count = 0\n",
    "                for x,y in zip(self.X,self.Y):\n",
    "                    if y==label:\n",
    "                        count+=x[i]\n",
    "                self.prob_feature[label][self.feature[i]]=(count+self.alpha)/((self.prob_label[label]*len(self.Y))+(self.alpha*2))\n",
    "\n",
    "    def predict(self,test_X):\n",
    "        encoded_test_X=[]\n",
    "        for x in test_X:\n",
    "            for feature in self.feature:\n",
    "                count = 0\n",
    "                for x1 in x:\n",
    "                    if x1==feature:\n",
    "                        count+=1\n",
    "                if(count>0):\n",
    "                    count =1\n",
    "                encoded_test_X.append(count)\n",
    "        output = {}\n",
    "        for label in self.label:\n",
    "            p = self.prob_label[label]\n",
    "            for x,f in zip(encoded_test_X,self.feature):\n",
    "                if x==1:\n",
    "                    p*=self.prob_feature[label][f]\n",
    "                else:\n",
    "                    p*=1-self.prob_feature[label][f]\n",
    "            output[label] = np.log(p)\n",
    "        return output\n",
    "                    \n",
    "                \n",
    "                \n",
    "                        \n",
    "\n",
    "                        \n",
    "                        \n",
    "                    \n",
    "            \n",
    "                \n",
    "                "
   ]
  },
  {
   "cell_type": "code",
   "execution_count": 5,
   "metadata": {},
   "outputs": [],
   "source": [
    "b = BernoulliNB()"
   ]
  },
  {
   "cell_type": "code",
   "execution_count": 6,
   "metadata": {},
   "outputs": [],
   "source": [
    "b.fit(X,Y)"
   ]
  },
  {
   "cell_type": "code",
   "execution_count": 7,
   "metadata": {},
   "outputs": [
    {
     "data": {
      "text/plain": [
       "['yes', 'no']"
      ]
     },
     "execution_count": 7,
     "metadata": {},
     "output_type": "execute_result"
    }
   ],
   "source": [
    "b.label"
   ]
  },
  {
   "cell_type": "code",
   "execution_count": 8,
   "metadata": {},
   "outputs": [
    {
     "data": {
      "text/plain": [
       "{'yes': 0.75, 'no': 0.25}"
      ]
     },
     "execution_count": 8,
     "metadata": {},
     "output_type": "execute_result"
    }
   ],
   "source": [
    "b.prob_label"
   ]
  },
  {
   "cell_type": "code",
   "execution_count": null,
   "metadata": {},
   "outputs": [],
   "source": []
  },
  {
   "cell_type": "code",
   "execution_count": 9,
   "metadata": {},
   "outputs": [
    {
     "data": {
      "text/plain": [
       "{'yes': {'Chinese': 0.8,\n",
       "  'Beijing': 0.4,\n",
       "  'Shanghai': 0.4,\n",
       "  'Macao': 0.4,\n",
       "  'Tokyo': 0.2,\n",
       "  'Japan': 0.2},\n",
       " 'no': {'Chinese': 0.6666666666666666,\n",
       "  'Beijing': 0.3333333333333333,\n",
       "  'Shanghai': 0.3333333333333333,\n",
       "  'Macao': 0.3333333333333333,\n",
       "  'Tokyo': 0.6666666666666666,\n",
       "  'Japan': 0.6666666666666666}}"
      ]
     },
     "execution_count": 9,
     "metadata": {},
     "output_type": "execute_result"
    }
   ],
   "source": [
    "b.prob_feature"
   ]
  },
  {
   "cell_type": "code",
   "execution_count": 10,
   "metadata": {},
   "outputs": [
    {
     "data": {
      "text/plain": [
       "{'yes': -5.262178319932163, 'no': -3.8190850097688767}"
      ]
     },
     "execution_count": 10,
     "metadata": {},
     "output_type": "execute_result"
    }
   ],
   "source": [
    "b.predict(test_X)"
   ]
  },
  {
   "cell_type": "code",
   "execution_count": null,
   "metadata": {},
   "outputs": [],
   "source": []
  },
  {
   "cell_type": "code",
   "execution_count": null,
   "metadata": {},
   "outputs": [],
   "source": []
  },
  {
   "cell_type": "code",
   "execution_count": null,
   "metadata": {},
   "outputs": [],
   "source": []
  },
  {
   "cell_type": "code",
   "execution_count": null,
   "metadata": {},
   "outputs": [],
   "source": []
  },
  {
   "cell_type": "code",
   "execution_count": null,
   "metadata": {},
   "outputs": [],
   "source": []
  },
  {
   "cell_type": "code",
   "execution_count": null,
   "metadata": {},
   "outputs": [],
   "source": []
  },
  {
   "cell_type": "code",
   "execution_count": null,
   "metadata": {},
   "outputs": [],
   "source": []
  }
 ],
 "metadata": {
  "kernelspec": {
   "display_name": "Python 3",
   "language": "python",
   "name": "python3"
  },
  "language_info": {
   "codemirror_mode": {
    "name": "ipython",
    "version": 3
   },
   "file_extension": ".py",
   "mimetype": "text/x-python",
   "name": "python",
   "nbconvert_exporter": "python",
   "pygments_lexer": "ipython3",
   "version": "3.7.0"
  }
 },
 "nbformat": 4,
 "nbformat_minor": 2
}
